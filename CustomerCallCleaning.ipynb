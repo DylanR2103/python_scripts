{
 "cells": [
  {
   "cell_type": "code",
   "execution_count": null,
   "id": "5b445dd7",
   "metadata": {},
   "outputs": [],
   "source": [
    "import pandas as pd"
   ]
  },
  {
   "cell_type": "code",
   "execution_count": null,
   "id": "3451a6b5",
   "metadata": {},
   "outputs": [],
   "source": [
    "#Reading Document \n",
    "\n",
    "df = pd.read_excel(r\"C:\\Users\\robin\\OneDrive\\Desktop\\Project\\Customer Call List.xlsx\")\n"
   ]
  },
  {
   "cell_type": "code",
   "execution_count": null,
   "id": "5313f885",
   "metadata": {},
   "outputs": [],
   "source": [
    "#Dropping Duplicates\n",
    "\n",
    "df = df.drop_duplicates()\n"
   ]
  },
  {
   "cell_type": "code",
   "execution_count": null,
   "id": "08b6f8df",
   "metadata": {},
   "outputs": [],
   "source": [
    "#Dropping Useless Columns\n",
    "\n",
    "df = df.drop(columns = \"Not_Useful_Column\")"
   ]
  },
  {
   "cell_type": "code",
   "execution_count": null,
   "id": "bd2dc4ca",
   "metadata": {},
   "outputs": [],
   "source": [
    "#Cleaning First & Last Name \n",
    "\n",
    "df[\"First_Name\"] = df[\"First_Name\"].str.strip(\"123._/\")\n",
    "df[\"Last_Name\"] = df[\"Last_Name\"].str.strip(\"123._/\")\n"
   ]
  },
  {
   "cell_type": "code",
   "execution_count": null,
   "id": "b2710f88",
   "metadata": {},
   "outputs": [],
   "source": [
    "#Cleaning & Formatting Phone Number \n",
    "\n",
    "df[\"Phone_Number\"] = df[\"Phone_Number\"].str.replace(r'[^0-9]', '', regex=True)\n",
    "\n",
    "df[\"Phone_Number\"] = df[\"Phone_Number\"].apply(lambda x: str(x))\n",
    "df[\"Phone_Number\"] = df[\"Phone_Number\"].apply(lambda x: x[0:3] + '-' + x[3:6] + '-' + x[6:10])\n",
    "\n",
    "df[\"Phone_Number\"] = df[\"Phone_Number\"].str.replace(r'nan--', '', regex=True)\n",
    "df[\"Phone_Number\"] = df[\"Phone_Number\"].str.replace(r'Na--', '', regex=True)\n",
    "df[\"Phone_Number\"] = df[\"Phone_Number\"].str.replace(r'--', '', regex=True)"
   ]
  },
  {
   "cell_type": "code",
   "execution_count": null,
   "id": "0cfb0702",
   "metadata": {},
   "outputs": [],
   "source": [
    "#Splitting Address & Dropping The Original After\n",
    "\n",
    "df[[\"Street_Address\", \"State\", \"Zip_Code\"]] = df[\"Address\"].str.split(',',n=2, expand = True)\n",
    "\n",
    "#df = df.drop(columns = \"Address\")"
   ]
  },
  {
   "cell_type": "code",
   "execution_count": null,
   "id": "fb2d09ec",
   "metadata": {},
   "outputs": [],
   "source": [
    "#Cleaned Paying Customer & Do Not Contact Column\n",
    "\n",
    "df[\"Paying Customer\"] = df[\"Paying Customer\"].str.replace('Yes','Y')\n",
    "df[\"Paying Customer\"] = df[\"Paying Customer\"].str.replace('No','N')\n",
    "\n",
    "df[\"Do_Not_Contact\"] = df[\"Do_Not_Contact\"].str.replace('No','N')\n",
    "df[\"Do_Not_Contact\"] = df[\"Do_Not_Contact\"].str.replace('Yes','Y')"
   ]
  },
  {
   "cell_type": "code",
   "execution_count": null,
   "id": "86164ad4",
   "metadata": {},
   "outputs": [],
   "source": [
    "#Filling empty values\n",
    "\n",
    "df = df.fillna('')\n"
   ]
  },
  {
   "cell_type": "code",
   "execution_count": null,
   "id": "96ecb8c3",
   "metadata": {},
   "outputs": [],
   "source": [
    "# Dropping Columns who do not want to be contacted \n",
    "\n",
    "for x in df.index:\n",
    "    if df.loc[x, \"Do_Not_Contact\"] == 'Y':\n",
    "        df.drop(x, inplace = True)\n"
   ]
  },
  {
   "cell_type": "code",
   "execution_count": null,
   "id": "c9dd47d4",
   "metadata": {},
   "outputs": [],
   "source": [
    "# Dropping Columns who do not have a phone number \n",
    "#  \n",
    "for x in df.index:\n",
    "    if df.loc[x, \"Phone_Number\"] == '':\n",
    "        df.drop(x, inplace = True)\n"
   ]
  },
  {
   "cell_type": "code",
   "execution_count": null,
   "id": "14ffcd94",
   "metadata": {},
   "outputs": [],
   "source": [
    "#Reseting the index \n",
    "\n",
    "df = df.reset_index(drop=True)"
   ]
  }
 ],
 "metadata": {
  "kernelspec": {
   "display_name": "Python 3",
   "language": "python",
   "name": "python3"
  },
  "language_info": {
   "codemirror_mode": {
    "name": "ipython",
    "version": 3
   },
   "file_extension": ".py",
   "mimetype": "text/x-python",
   "name": "python",
   "nbconvert_exporter": "python",
   "pygments_lexer": "ipython3",
   "version": "3.13.7"
  }
 },
 "nbformat": 4,
 "nbformat_minor": 5
}
